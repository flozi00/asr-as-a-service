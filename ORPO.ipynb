{
 "cells": [
  {
   "cell_type": "code",
   "execution_count": null,
   "id": "41abeeae",
   "metadata": {},
   "outputs": [],
   "source": [
    "!pip install git+https://github.com/huggingface/trl flash-attn transformers galore-torch --no-build-isolation --upgrade"
   ]
  },
  {
   "cell_type": "code",
   "execution_count": null,
   "id": "ede179ba",
   "metadata": {},
   "outputs": [],
   "source": [
    "import datasets\n",
    "from transformers import AutoModelForCausalLM, AutoTokenizer, BitsAndBytesConfig\n",
    "from trl import ModelConfig, ORPOConfig, ORPOTrainer, ORPOConfig\n",
    "from bitsandbytes.optim import PagedAdamW8bit\n",
    "from torch.optim.lr_scheduler import ExponentialLR\n",
    "import torch"
   ]
  },
  {
   "cell_type": "code",
   "execution_count": null,
   "id": "9cb4da57",
   "metadata": {},
   "outputs": [],
   "source": [
    "ds = datasets.load_dataset(\"flozi00/german-capy-dpo\", split=\"train\")\n",
    "ds = ds.rename_column(\"prompt\",\"prompt_list\").rename_column(\"chat\", \"prompt\")"
   ]
  },
  {
   "cell_type": "code",
   "execution_count": null,
   "id": "9f7c5343",
   "metadata": {},
   "outputs": [],
   "source": [
    "model = AutoModelForCausalLM.from_pretrained(\"mistralai/Mistral-7B-Instruct-v0.2\", attn_implementation=\"flash_attention_2\", low_cpu_mem_usage=True, torch_dtype=torch.bfloat16)\n",
    "tokenizer = AutoTokenizer.from_pretrained(\"mistralai/Mistral-7B-Instruct-v0.2\")\n",
    "if tokenizer.pad_token is None:\n",
    "    tokenizer.pad_token = tokenizer.eos_token"
   ]
  },
  {
   "cell_type": "code",
   "execution_count": null,
   "id": "3a3efbf6",
   "metadata": {},
   "outputs": [],
   "source": [
    "LR = 0.0001\n",
    "\n",
    "args = ORPOConfig(output_dir=\"mistral-instruct-german-orpo\", per_device_train_batch_size=2, gradient_accumulation_steps=1, logging_steps=10, max_prompt_length=5000, max_length=6000,\n",
    "                push_to_hub=True, gradient_checkpointing=True, dataloader_pin_memory=False, bf16=True, hub_private_repo=True,\n",
    "                learning_rate=LR, optim=\"galore_adamw_layerwise\",\n",
    "                optim_target_modules=[\"attn\", \"mlp\"])"
   ]
  },
  {
   "cell_type": "code",
   "execution_count": null,
   "id": "f7a4ba7b",
   "metadata": {
    "scrolled": true
   },
   "outputs": [],
   "source": [
    "trainer = ORPOTrainer(\n",
    "    model,\n",
    "    args = args,\n",
    "    train_dataset=ds,\n",
    "    eval_dataset=ds,\n",
    "    tokenizer=tokenizer,\n",
    ")\n",
    "\n",
    "# train and save the model\n",
    "trainer.train()\n",
    "trainer.save_model(args.output_dir)"
   ]
  }
 ],
 "metadata": {
  "kernelspec": {
   "display_name": "Python 3 (ipykernel)",
   "language": "python",
   "name": "python3"
  },
  "language_info": {
   "codemirror_mode": {
    "name": "ipython",
    "version": 3
   },
   "file_extension": ".py",
   "mimetype": "text/x-python",
   "name": "python",
   "nbconvert_exporter": "python",
   "pygments_lexer": "ipython3",
   "version": "3.10.12"
  }
 },
 "nbformat": 4,
 "nbformat_minor": 5
}
