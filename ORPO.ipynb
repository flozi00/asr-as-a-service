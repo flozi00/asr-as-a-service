{
 "cells": [
  {
   "cell_type": "code",
   "execution_count": null,
   "id": "bd03f9d3",
   "metadata": {
    "scrolled": true
   },
   "outputs": [],
   "source": [
    "!pip install git+https://github.com/huggingface/trl git+https://github.com/huggingface/peft galore-torch bitsandbytes transformers --upgrade --no-deps"
   ]
  },
  {
   "cell_type": "code",
   "execution_count": null,
   "id": "ad267cd2",
   "metadata": {},
   "outputs": [],
   "source": [
    "import datasets\n",
    "from transformers import AutoModelForCausalLM, AutoTokenizer, BitsAndBytesConfig\n",
    "from trl import ModelConfig, ORPOConfig, ORPOTrainer, ORPOConfig\n",
    "import torch\n",
    "from peft import LoraConfig"
   ]
  },
  {
   "cell_type": "code",
   "execution_count": null,
   "id": "b3aa5ccf",
   "metadata": {},
   "outputs": [],
   "source": [
    "ds1 = datasets.load_dataset(\"flozi00/german-capy-dpo\", split=\"train\")\n",
    "ds2 = datasets.load_dataset(\"flozi00/mixdpo-german\", split=\"train\")\n",
    "ds3 = datasets.load_dataset(\"flozi00/dpo-mix-formatted\", split=\"train\")\n",
    "ds = datasets.concatenate_datasets([ds1,ds2,ds3])\n",
    "ds = ds.rename_column(\"prompt\",\"prompt_list\").rename_column(\"chat\", \"prompt\")"
   ]
  },
  {
   "cell_type": "code",
   "execution_count": null,
   "id": "78504b71",
   "metadata": {},
   "outputs": [],
   "source": [
    "peft_config = LoraConfig(target_modules=\"all-linear\", layer_replication= [\n",
    "    [\n",
    "      0,\n",
    "      16\n",
    "    ],\n",
    "    [\n",
    "      8,\n",
    "      24\n",
    "    ],\n",
    "    [\n",
    "      16,\n",
    "      32\n",
    "    ]\n",
    "  ])\n",
    "\n",
    "quantization_config = BitsAndBytesConfig(load_in_4bit=True)\n",
    "\n",
    "model = AutoModelForCausalLM.from_pretrained(\"mistralai/Mistral-7B-Instruct-v0.2\", \n",
    "                                             attn_implementation=\"flash_attention_2\", \n",
    "                                             low_cpu_mem_usage=True, torch_dtype=torch.bfloat16)\n",
    "tokenizer = AutoTokenizer.from_pretrained(\"mistralai/Mistral-7B-Instruct-v0.2\")\n",
    "if tokenizer.pad_token is None:\n",
    "    tokenizer.pad_token = tokenizer.eos_token\n",
    "\n",
    "model.gradient_checkpointing_enable(gradient_checkpointing_kwargs={\"use_reentrant\": False})"
   ]
  },
  {
   "cell_type": "code",
   "execution_count": null,
   "id": "78c89564",
   "metadata": {},
   "outputs": [],
   "source": [
    "LR = 0.0001\n",
    "\n",
    "args = ORPOConfig(output_dir=\"mistral-instruct-german-orpo\", per_device_train_batch_size=2, gradient_accumulation_steps=32, max_prompt_length=5000, max_length=6000,\n",
    "                push_to_hub=True, gradient_checkpointing=False, dataloader_pin_memory=False, bf16=True, hub_private_repo=True,\n",
    "                learning_rate=LR, optim=\"lion_8bit\", logging_steps=1,\n",
    "                optim_target_modules=[\"attn\", \"mlp\"])"
   ]
  },
  {
   "cell_type": "code",
   "execution_count": null,
   "id": "6b1ce2af",
   "metadata": {
    "scrolled": true
   },
   "outputs": [],
   "source": [
    "trainer = ORPOTrainer(\n",
    "    model,\n",
    "    args = args,\n",
    "    train_dataset=ds,\n",
    "    eval_dataset=ds,\n",
    "    tokenizer=tokenizer,\n",
    "    peft_config=peft_config,\n",
    ")\n",
    "\n",
    "# train and save the model\n",
    "trainer.train()\n",
    "trainer.save_model(args.output_dir)"
   ]
  },
  {
   "cell_type": "code",
   "execution_count": null,
   "id": "0a5eb0c0",
   "metadata": {},
   "outputs": [],
   "source": []
  }
 ],
 "metadata": {
  "kernelspec": {
   "display_name": "Python 3 (ipykernel)",
   "language": "python",
   "name": "python3"
  },
  "language_info": {
   "codemirror_mode": {
    "name": "ipython",
    "version": 3
   },
   "file_extension": ".py",
   "mimetype": "text/x-python",
   "name": "python",
   "nbconvert_exporter": "python",
   "pygments_lexer": "ipython3",
   "version": "3.10.12"
  }
 },
 "nbformat": 4,
 "nbformat_minor": 5
}
